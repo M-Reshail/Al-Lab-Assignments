{
 "cells": [
  {
   "cell_type": "code",
   "execution_count": 22,
   "metadata": {},
   "outputs": [
    {
     "name": "stdout",
     "output_type": "stream",
     "text": [
      "Sorted text: i am reshail hello\n"
     ]
    }
   ],
   "source": [
    "# Task 3: Sort text (word) in Alphabetical Order (without using sort function)\n",
    "text = input(\"Enter a text: \")\n",
    "words = text.split()\n",
    "\n",
    "x=len(words)\n",
    "for i in range(x):\n",
    "    for j in range(0 , x-i-1):\n",
    "        if ord(words[i][0]) > ord(words[j+1][0]):\n",
    "            words[j], words[j+1] = words[j+1], words[j]\n",
    "\n",
    "sorted_text = ' '.join(words)\n",
    "print(\"Sorted text:\", sorted_text)\n"
   ]
  }
 ],
 "metadata": {
  "kernelspec": {
   "display_name": "base",
   "language": "python",
   "name": "python3"
  },
  "language_info": {
   "codemirror_mode": {
    "name": "ipython",
    "version": 3
   },
   "file_extension": ".py",
   "mimetype": "text/x-python",
   "name": "python",
   "nbconvert_exporter": "python",
   "pygments_lexer": "ipython3",
   "version": "3.11.5"
  }
 },
 "nbformat": 4,
 "nbformat_minor": 2
}
