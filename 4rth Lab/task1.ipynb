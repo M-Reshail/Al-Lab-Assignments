{
 "cells": [
  {
   "cell_type": "code",
   "execution_count": 5,
   "metadata": {},
   "outputs": [
    {
     "name": "stdout",
     "output_type": "stream",
     "text": [
      "The card number 5893804115457289 is valid.\n"
     ]
    }
   ],
   "source": [
    "def luhn_check(card_number):\n",
    "    card_digits = [int(digit) for digit in str(card_number)]\n",
    "    \n",
    "    card_digits.reverse()\n",
    "    \n",
    "    for i in range(1, len(card_digits), 2):\n",
    "        card_digits[i] *= 2\n",
    "        if card_digits[i] > 9:\n",
    "            card_digits[i] -= 9\n",
    "    \n",
    "    total_sum = sum(card_digits)\n",
    "    return total_sum % 10 == 0\n",
    "\n",
    "card_number = input(\"Enter a card number: \")\n",
    "if luhn_check(card_number):\n",
    "    print(f\"The card number {card_number} is valid.\")\n",
    "else:\n",
    "    print(f\"The card number {card_number} is invalid.\")\n"
   ]
  },
  {
   "cell_type": "code",
   "execution_count": null,
   "metadata": {},
   "outputs": [],
   "source": []
  }
 ],
 "metadata": {
  "kernelspec": {
   "display_name": "base",
   "language": "python",
   "name": "python3"
  },
  "language_info": {
   "codemirror_mode": {
    "name": "ipython",
    "version": 3
   },
   "file_extension": ".py",
   "mimetype": "text/x-python",
   "name": "python",
   "nbconvert_exporter": "python",
   "pygments_lexer": "ipython3",
   "version": "3.11.5"
  }
 },
 "nbformat": 4,
 "nbformat_minor": 2
}
