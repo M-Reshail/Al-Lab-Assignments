{
 "cells": [
  {
   "cell_type": "code",
   "execution_count": 5,
   "metadata": {},
   "outputs": [
    {
     "name": "stdout",
     "output_type": "stream",
     "text": [
      "Living Room: Current temperature = 18°C. Activate heater. Stored action differs from current action.\n",
      "Bedroom: Current temperature = 22°C. Heater remains inactive. Stored action differs from current action.\n",
      "Kitchen: Current temperature = 20°C. Activate heater. Stored action differs from current action.\n",
      "Bathroom: Current temperature = 24°C. Heater remains inactive. Stored action differs from current action.\n"
     ]
    }
   ],
   "source": [
    "import json\n",
    "\n",
    "class TemperatureRegulator:\n",
    "    def __init__(self, target_temp):\n",
    "        self.target_temp = target_temp\n",
    "        self.heater_status = {}\n",
    "\n",
    "    def sense(self, temp):\n",
    "        return temp\n",
    "\n",
    "    def respond(self, room, current_temp, previous_action):\n",
    "        current_status = self.heater_status.get(room, \"off\")\n",
    "        action_state = previous_action.split()[1]  \n",
    "        if current_temp < self.target_temp:\n",
    "            if current_status == \"off\":\n",
    "                self.heater_status[room] = \"on\"\n",
    "                new_action = \"Activate heater\"\n",
    "            else:\n",
    "                new_action = \"Heater stays active\"\n",
    "        else:\n",
    "            if current_status == \"on\":\n",
    "                self.heater_status[room] = \"off\"\n",
    "                new_action = \"Deactivate heater\"\n",
    "            else:\n",
    "                new_action = \"Heater remains inactive\"\n",
    "\n",
    "        match_check = \"Stored action matches current action.\" if previous_action == new_action else \"Stored action differs from current action.\"\n",
    "\n",
    "        return new_action, match_check\n",
    "\n",
    "\n",
    "with open(\"simple_reflex_results.json\", \"r\") as file:\n",
    "    previous_data = json.load(file)\n",
    "\n",
    "rooms = {\n",
    "    \"Living Room\": 18,\n",
    "    \"Bedroom\": 22,\n",
    "    \"Kitchen\": 20,\n",
    "    \"Bathroom\": 24\n",
    "}\n",
    "\n",
    "target_temp = 22\n",
    "regulator = TemperatureRegulator(target_temp)\n",
    "\n",
    "for room, temp in rooms.items():\n",
    "    prev_action = previous_data[room][\"action\"]\n",
    "    action_result, comparison = regulator.respond(room, temp, prev_action)\n",
    "    print(f\"{room}: Current temperature = {temp}°C. {action_result}. {comparison}\")\n"
   ]
  },
  {
   "cell_type": "code",
   "execution_count": null,
   "metadata": {},
   "outputs": [],
   "source": []
  }
 ],
 "metadata": {
  "kernelspec": {
   "display_name": "base",
   "language": "python",
   "name": "python3"
  },
  "language_info": {
   "codemirror_mode": {
    "name": "ipython",
    "version": 3
   },
   "file_extension": ".py",
   "mimetype": "text/x-python",
   "name": "python",
   "nbconvert_exporter": "python",
   "pygments_lexer": "ipython3",
   "version": "3.11.5"
  }
 },
 "nbformat": 4,
 "nbformat_minor": 2
}
