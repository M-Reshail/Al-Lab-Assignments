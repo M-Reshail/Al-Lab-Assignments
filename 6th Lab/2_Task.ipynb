{
 "cells": [
  {
   "cell_type": "code",
   "execution_count": 2,
   "metadata": {},
   "outputs": [
    {
     "name": "stdout",
     "output_type": "stream",
     "text": [
      "BFS Traversal:  ['A', 'B', 'C', 'D', 'E', 'F', 'G']\n"
     ]
    }
   ],
   "source": [
    "# BFS with Queue & Node\n",
    "from collections import deque\n",
    "\n",
    "class Node:\n",
    "    def __init__(self, value):\n",
    "        self.value = value\n",
    "        self.neighbors = []\n",
    "\n",
    "    def add(self, neighbor_node):\n",
    "        self.neighbors.append(neighbor_node)\n",
    "\n",
    "\n",
    "def bfs_with_queue(start_node):\n",
    "    visited = set()\n",
    "    queue = deque([start_node])\n",
    "    result = []\n",
    "    \n",
    "    while queue:\n",
    "        curr_node = queue.popleft()\n",
    "        \n",
    "        if curr_node not in visited:\n",
    "            visited.add(curr_node)\n",
    "            result.append(curr_node.value)\n",
    "            \n",
    "            for neighbor in curr_node.neighbors:\n",
    "                if neighbor not in visited:\n",
    "                    queue.append(neighbor)\n",
    "    \n",
    "    return result\n",
    "\n",
    "\n",
    "node_A = Node('A')\n",
    "node_B = Node('B')\n",
    "node_C = Node('C')\n",
    "node_D = Node('D')\n",
    "node_E = Node('E')\n",
    "node_F = Node('F')\n",
    "node_G = Node('G')\n",
    "\n",
    "node_A.add(node_B)\n",
    "node_A.add(node_C)\n",
    "node_B.add(node_D)\n",
    "node_B.add(node_E)\n",
    "node_C.add(node_F)\n",
    "node_C.add(node_G)\n",
    "\n",
    "print(\"BFS Traversal: \", bfs_with_queue(node_A))"
   ]
  },
  {
   "cell_type": "code",
   "execution_count": null,
   "metadata": {},
   "outputs": [],
   "source": []
  }
 ],
 "metadata": {
  "kernelspec": {
   "display_name": "base",
   "language": "python",
   "name": "python3"
  },
  "language_info": {
   "codemirror_mode": {
    "name": "ipython",
    "version": 3
   },
   "file_extension": ".py",
   "mimetype": "text/x-python",
   "name": "python",
   "nbconvert_exporter": "python",
   "pygments_lexer": "ipython3",
   "version": "3.11.5"
  }
 },
 "nbformat": 4,
 "nbformat_minor": 2
}
