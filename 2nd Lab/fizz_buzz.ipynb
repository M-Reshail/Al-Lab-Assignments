{
 "cells": [
  {
   "cell_type": "code",
   "execution_count": 4,
   "metadata": {},
   "outputs": [
    {
     "name": "stdout",
     "output_type": "stream",
     "text": [
      "buzz\n",
      "fizz\n"
     ]
    }
   ],
   "source": [
    "#fizz buzz \n",
    "while True:\n",
    "    x = int(input(\"enter a number: \"))\n",
    "    if x % 3 == 0 and x % 5 == 0:\n",
    "            print(\"fizzbuzz\")\n",
    "    elif x % 3 == 0:\n",
    "            print(\"fizz\")\n",
    "    elif x % 5 == 0:\n",
    "            print(\"buzz\")\n",
    "    else:\n",
    "            print(x)\n",
    "    choise = int(input(\"do you want to continue? 1  \"))\n",
    "    if choise == 1:\n",
    "        continue\n",
    "    else:\n",
    "        break\n"
   ]
  },
  {
   "cell_type": "code",
   "execution_count": null,
   "metadata": {},
   "outputs": [],
   "source": []
  }
 ],
 "metadata": {
  "kernelspec": {
   "display_name": "base",
   "language": "python",
   "name": "python3"
  },
  "language_info": {
   "codemirror_mode": {
    "name": "ipython",
    "version": 3
   },
   "file_extension": ".py",
   "mimetype": "text/x-python",
   "name": "python",
   "nbconvert_exporter": "python",
   "pygments_lexer": "ipython3",
   "version": "3.11.5"
  }
 },
 "nbformat": 4,
 "nbformat_minor": 2
}
