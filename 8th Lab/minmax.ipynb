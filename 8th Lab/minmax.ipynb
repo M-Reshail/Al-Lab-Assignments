{
 "cells": [
  {
   "cell_type": "code",
   "execution_count": 3,
   "metadata": {},
   "outputs": [
    {
     "name": "stdout",
     "output_type": "stream",
     "text": [
      "score for the maximizing the player is: 2\n"
     ]
    }
   ],
   "source": [
    "def min_max(depth, is_maximizing, scores):\n",
    "    if depth == 0 or not scores:\n",
    "        return scores[-1]\n",
    "\n",
    "    if is_maximizing:\n",
    "        best_score = float('-inf')\n",
    "        for score in scores:\n",
    "            best_score = max(best_score, min_max(depth - 1, False, scores))\n",
    "        return best_score\n",
    "    else:\n",
    "        best_score = float('inf')\n",
    "        for score in scores:\n",
    "            best_score = min(best_score, min_max(depth - 1, True, scores))\n",
    "        return best_score\n",
    "\n",
    "\n",
    "scores = [4, 6, 3, 9, 13, 2]\n",
    "depth = 3\n",
    "result = min_max(depth, True, scores)\n",
    "print(f\"score for the maximizing the player is: {result}\")"
   ]
  },
  {
   "cell_type": "code",
   "execution_count": null,
   "metadata": {},
   "outputs": [],
   "source": []
  }
 ],
 "metadata": {
  "kernelspec": {
   "display_name": "base",
   "language": "python",
   "name": "python3"
  },
  "language_info": {
   "codemirror_mode": {
    "name": "ipython",
    "version": 3
   },
   "file_extension": ".py",
   "mimetype": "text/x-python",
   "name": "python",
   "nbconvert_exporter": "python",
   "pygments_lexer": "ipython3",
   "version": "3.11.5"
  }
 },
 "nbformat": 4,
 "nbformat_minor": 2
}
